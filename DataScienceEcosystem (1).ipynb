{
 "cells": [
  {
   "cell_type": "markdown",
   "id": "a322665f-a39c-44ff-a552-de0223d66970",
   "metadata": {},
   "source": [
    "<h1>Data Science Tools and Ecosystem</h1> "
   ]
  },
  {
   "cell_type": "markdown",
   "id": "8738ce06-280c-4b73-890c-ae8041d7504f",
   "metadata": {},
   "source": [
    "In this notebook, Data Science Tools and Ecosystem are summarized."
   ]
  },
  {
   "cell_type": "markdown",
   "id": "00269de5-f893-4554-9698-8083aed7b53f",
   "metadata": {},
   "source": [
    "Objective:\n",
    "- List popular data science languages\n",
    "- List commonly used data science languages\n",
    "- List data science tools"
   ]
  },
  {
   "cell_type": "markdown",
   "id": "4980cd7a-28d9-4c01-beaf-ba16a438031c",
   "metadata": {},
   "source": [
    "Some of the popular languages that Data Scientists use are:\n",
    "1. SQL\n",
    "2. Python\n",
    "3. R"
   ]
  },
  {
   "cell_type": "markdown",
   "id": "135a6dd9-897d-4aaa-8535-229336f574ef",
   "metadata": {},
   "source": [
    "Some of the commonly used libraries used by Data Scientists include:\n",
    "1. Pandas\n",
    "2. NumPy\n",
    "3. Scikit Learn"
   ]
  },
  {
   "cell_type": "markdown",
   "id": "4c1f3b0b-48e2-47ed-9e19-52e193225725",
   "metadata": {},
   "source": [
    "| Data Science Tools|\n",
    "|-------------------|\n",
    "|Jupyter Notebook|\n",
    "| VS Code|\n",
    "|RStudio|"
   ]
  },
  {
   "cell_type": "markdown",
   "id": "941191f3-9775-44cc-97f4-a6440581cef5",
   "metadata": {},
   "source": [
    "<h3>Below are a few examples of evaluating arithmetic expressions in Python:"
   ]
  },
  {
   "cell_type": "code",
   "execution_count": 1,
   "id": "f869c69b-93e6-4a65-843b-afb8b260258b",
   "metadata": {},
   "outputs": [
    {
     "data": {
      "text/plain": [
       "17"
      ]
     },
     "execution_count": 1,
     "metadata": {},
     "output_type": "execute_result"
    }
   ],
   "source": [
    "# This a simple arithmetic expression to mutiply then add integers\n",
    "\n",
    "(3*4)+5"
   ]
  },
  {
   "cell_type": "code",
   "execution_count": 2,
   "id": "34c3757a-4c83-4296-84af-51432e0b1374",
   "metadata": {},
   "outputs": [
    {
     "data": {
      "text/plain": [
       "3.3333333333333335"
      ]
     },
     "execution_count": 2,
     "metadata": {},
     "output_type": "execute_result"
    }
   ],
   "source": [
    "#This will convert 200 minutes to hours by dividing by 60\n",
    "\n",
    "200/60"
   ]
  },
  {
   "cell_type": "markdown",
   "id": "50cf2383-5b15-4169-874a-54998452041a",
   "metadata": {},
   "source": [
    "<h2>Author</h2>\n",
    "Roma"
   ]
  }
 ],
 "metadata": {
  "kernelspec": {
   "display_name": "Python 3 (ipykernel)",
   "language": "python",
   "name": "python3"
  },
  "language_info": {
   "codemirror_mode": {
    "name": "ipython",
    "version": 3
   },
   "file_extension": ".py",
   "mimetype": "text/x-python",
   "name": "python",
   "nbconvert_exporter": "python",
   "pygments_lexer": "ipython3",
   "version": "3.13.2"
  }
 },
 "nbformat": 4,
 "nbformat_minor": 5
}
